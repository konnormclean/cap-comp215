{
  "cells": [
    {
      "cell_type": "markdown",
      "metadata": {
        "id": "view-in-github",
        "colab_type": "text"
      },
      "source": [
        "<a href=\"https://colab.research.google.com/github/konnormclean/cap-comp215/blob/main/lab1_reupload.ipynb\" target=\"_parent\"><img src=\"https://colab.research.google.com/assets/colab-badge.svg\" alt=\"Open In Colab\"/></a>"
      ]
    },
    {
      "cell_type": "markdown",
      "metadata": {
        "collapsed": true,
        "pycharm": {
          "name": "#%% md\n"
        },
        "id": "UO4namhuBH3l"
      },
      "source": [
        "COMP 215 - LAB 1\n",
        "----------------\n",
        "#### Name:Konnor McLean\n",
        "#### Date: 2023/01/23\n",
        "\n",
        "This lab exercise is mostly to introduce some of the power in Jupyter Notebooks.\n",
        "Note that a Notebook is composed of \"cells\" - some are \"text\", like this one, while others are \"code\"\n",
        "\n",
        "We'll also review some basic data types (like `int` and `str`) and data structures (like `list` and `dict`)\n",
        "\n",
        "**New Python Concepts**:\n",
        "  * `datetime.date` objects represent a calendar date (these are very powerful)\n",
        "  * *list comprehension* provides a compact way to represent map and filter algorithms\n",
        "\n",
        "As will be usual, the fist code cell, below, simply imports all the modules we'll be using..."
      ]
    },
    {
      "cell_type": "code",
      "source": [
        "import datetime, json, requests\n",
        "import matplotlib.pyplot as plt\n",
        "import  matplotlib.dates as mdates\n",
        "from pprint import pprint    # Pretty Print - built-in python function to nicely format data structures"
      ],
      "metadata": {
        "pycharm": {
          "name": "#%%\n"
        },
        "id": "DqSJNdSdBH3n"
      },
      "execution_count": null,
      "outputs": []
    },
    {
      "cell_type": "markdown",
      "source": [
        "### API Query\n",
        "\n",
        "Now, let's fetch some Covid-19 daily case-count data from the Open Covid API:  https://opencovid.ca/api/\n",
        "\n",
        "Query:\n",
        "  - `stat=cases`        # the type of data to fetch\n",
        "  - `loc=BC`            # the location to fetch data for\n",
        "  - `after=2022-11-01`  # since the 1st of november (note date format:  yyyy-mm-dd)"
      ],
      "metadata": {
        "collapsed": false,
        "id": "0rnf67FTBH3p"
      }
    },
    {
      "cell_type": "code",
      "execution_count": null,
      "outputs": [
        {
          "name": "stdout",
          "output_type": "stream",
          "text": [
            "Response data type: <class 'str'>\n",
            "{\"data\":{\"cases\":[{\"name\":\"cases\",\"region\":\"BC\",\"date\":\"2022-11-01\",\"value\":387875,\"value_daily\":62},{\"name\":\"cases\",\"region\":\"BC\",\"date\":\"2022-11-02\",\"value\":387957,\"value_daily\":82},{\"name\":\"cases\",\"region\":\"BC\",\"date\":\"2022-11-03\",\"value\":387992,\"value_daily\":35},{\"name\":\"cases\",\"region\":\"BC\",\"date\":\"2022-11-04\",\"value\":388052,\"value_daily\":60},{\"name\":\"cases\",\"region\":\"BC\",\"date\":\"2022-11-05\",\"value\":388112,\"value_daily\":60},{\"name\":\"cases\",\"region\":\"BC\",\"date\":\"2022-11-06\",\"value\":388176,\"value_daily\":64},{\"name\":\"cases\",\"region\":\"BC\",\"date\":\"2022-11-07\",\"value\":388246,\"value_daily\":70},{\"name\":\"cases\",\"region\":\"BC\",\"date\":\"2022-11-08\",\"value\":388320,\"value_daily\":74},{\"name\":\"cases\",\"region\":\"BC\",\"date\":\"2022-11-09\",\"value\":388398,\"value_daily\":78},{\"name\":\"cases\",\"region\":\"BC\",\"date\":\"2022-11-10\",\"value\":388474,\"value_daily\":76},{\"name\":\"cases\",\"region\":\"BC\",\"date\":\"2022-11-11\",\"value\":388536,\"value_daily\":62},{\"name\":\"cases\",\"region\":\"BC\",\"date\":\"2022-11-12\",\"value\":388596,\"value_daily\":60},{\"name\":\"cases\",\"region\":\"BC\",\"date\":\"2022-11-13\",\"value\":388657,\"value_daily\":61},{\"name\":\"cases\",\"region\":\"BC\",\"date\":\"2022-11-14\",\"value\":388712,\"value_daily\":55},{\"name\":\"cases\",\"region\":\"BC\",\"date\":\"2022-11-15\",\"value\":388802,\"value_daily\":90},{\"name\":\"cases\",\"region\":\"BC\",\"date\":\"2022-11-16\",\"value\":388874,\"value_daily\":72},{\"name\":\"cases\",\"region\":\"BC\",\"date\":\"2022-11-17\",\"value\":388938,\"value_daily\":64},{\"name\":\"cases\",\"region\":\"BC\",\"date\":\"2022-11-18\",\"value\":389029,\"value_daily\":91},{\"name\":\"cases\",\"region\":\"BC\",\"date\":\"2022-11-19\",\"value\":389094,\"value_daily\":65},{\"name\":\"cases\",\"region\":\"BC\",\"date\":\"2022-11-20\",\"value\":389169,\"value_daily\":75},{\"name\":\"cases\",\"region\":\"BC\",\"date\":\"2022-11-21\",\"value\":389275,\"value_daily\":106},{\"name\":\"cases\",\"region\":\"BC\",\"date\":\"2022-11-22\",\"value\":389357,\"value_daily\":82},{\"name\":\"cases\",\"region\":\"BC\",\"date\":\"2022-11-23\",\"value\":389429,\"value_daily\":72},{\"name\":\"cases\",\"region\":\"BC\",\"date\":\"2022-11-24\",\"value\":389536,\"value_daily\":107},{\"name\":\"cases\",\"region\":\"BC\",\"date\":\"2022-11-25\",\"value\":389623,\"value_daily\":87},{\"name\":\"cases\",\"region\":\"BC\",\"date\":\"2022-11-26\",\"value\":389698,\"value_daily\":75},{\"name\":\"cases\",\"region\":\"BC\",\"date\":\"2022-11-27\",\"value\":389767,\"value_daily\":69},{\"name\":\"cases\",\"region\":\"BC\",\"date\":\"2022-11-28\",\"value\":389847,\"value_daily\":80},{\"name\":\"cases\",\"region\":\"BC\",\"date\":\"2022-11-29\",\"value\":389944,\"value_daily\":97},{\"name\":\"cases\",\"region\":\"BC\",\"date\":\"2022-11-30\",\"value\":390023,\"value_daily\":79},{\"name\":\"cases\",\"region\":\"BC\",\"date\":\"2022-12-01\",\"value\":390102,\"value_daily\":79},{\"name\":\"cases\",\"region\":\"BC\",\"date\":\"2022-12-02\",\"value\":390178,\"value_daily\":76},{\"name\":\"cases\",\"region\":\"BC\",\"date\":\"2022-12-03\",\"value\":390237,\"value_daily\":59},{\"name\":\"cases\",\"region\":\"BC\",\"date\":\"2022-12-04\",\"value\":390298,\"value_daily\":61},{\"name\":\"cases\",\"region\":\"BC\",\"date\":\"2022-12-05\",\"value\":390391,\"value_daily\":93},{\"name\":\"cases\",\"region\":\"BC\",\"date\":\"2022-12-06\",\"value\":390486,\"value_daily\":95},{\"name\":\"cases\",\"region\":\"BC\",\"date\":\"2022-12-07\",\"value\":390595,\"value_daily\":109},{\"name\":\"cases\",\"region\":\"BC\",\"date\":\"2022-12-08\",\"value\":390693,\"value_daily\":98},{\"name\":\"cases\",\"region\":\"BC\",\"date\":\"2022-12-09\",\"value\":390796,\"value_daily\":103},{\"name\":\"cases\",\"region\":\"BC\",\"date\":\"2022-12-10\",\"value\":390896,\"value_daily\":100},{\"name\":\"cases\",\"region\":\"BC\",\"date\":\"2022-12-11\",\"value\":390983,\"value_daily\":87},{\"name\":\"cases\",\"region\":\"BC\",\"date\":\"2022-12-12\",\"value\":391082,\"value_daily\":99},{\"name\":\"cases\",\"region\":\"BC\",\"date\":\"2022-12-13\",\"value\":391170,\"value_daily\":88},{\"name\":\"cases\",\"region\":\"BC\",\"date\":\"2022-12-14\",\"value\":391257,\"value_daily\":87},{\"name\":\"cases\",\"region\":\"BC\",\"date\":\"2022-12-15\",\"value\":391342,\"value_daily\":85},{\"name\":\"cases\",\"region\":\"BC\",\"date\":\"2022-12-16\",\"value\":391433,\"value_daily\":91},{\"name\":\"cases\",\"region\":\"BC\",\"date\":\"2022-12-17\",\"value\":391505,\"value_daily\":72},{\"name\":\"cases\",\"region\":\"BC\",\"date\":\"2022-12-18\",\"value\":391573,\"value_daily\":68},{\"name\":\"cases\",\"region\":\"BC\",\"date\":\"2022-12-19\",\"value\":391657,\"value_daily\":84},{\"name\":\"cases\",\"region\":\"BC\",\"date\":\"2022-12-20\",\"value\":391737,\"value_daily\":80},{\"name\":\"cases\",\"region\":\"BC\",\"date\":\"2022-12-21\",\"value\":391815,\"value_daily\":78},{\"name\":\"cases\",\"region\":\"BC\",\"date\":\"2022-12-22\",\"value\":391912,\"value_daily\":97},{\"name\":\"cases\",\"region\":\"BC\",\"date\":\"2022-12-23\",\"value\":391963,\"value_daily\":51},{\"name\":\"cases\",\"region\":\"BC\",\"date\":\"2022-12-24\",\"value\":392061,\"value_daily\":98},{\"name\":\"cases\",\"region\":\"BC\",\"date\":\"2022-12-25\",\"value\":392143,\"value_daily\":82},{\"name\":\"cases\",\"region\":\"BC\",\"date\":\"2022-12-26\",\"value\":392228,\"value_daily\":85},{\"name\":\"cases\",\"region\":\"BC\",\"date\":\"2022-12-27\",\"value\":392330,\"value_daily\":102},{\"name\":\"cases\",\"region\":\"BC\",\"date\":\"2022-12-28\",\"value\":392414,\"value_daily\":84},{\"name\":\"cases\",\"region\":\"BC\",\"date\":\"2022-12-29\",\"value\":392544,\"value_daily\":130},{\"name\":\"cases\",\"region\":\"BC\",\"date\":\"2022-12-30\",\"value\":392665,\"value_daily\":121},{\"name\":\"cases\",\"region\":\"BC\",\"date\":\"2022-12-31\",\"value\":392754,\"value_daily\":89}]},\"version\":\"2023-01-07 10:08 EST\"}\n"
          ]
        }
      ],
      "source": [
        "query = 'https://api.opencovid.ca/timeseries?stat=cases&loc=BC&after=2022-11-01&hriud=593'\n",
        "\n",
        "response = requests.request(\"GET\", query, headers={}, data={},region={})\n",
        "\n",
        "#dictionary with province letters and hruid codes?\n",
        "\n",
        "\n",
        "print('Response data type:', type(response.text))\n",
        "print(response.text)"
      ],
      "metadata": {
        "pycharm": {
          "name": "#%%\n"
        },
        "id": "Al2T68b2BH3p",
        "outputId": "54e82da0-d744-4f30-efbd-1e9c08126b7b",
        "colab": {
          "base_uri": "https://localhost:8080/"
        }
      }
    },
    {
      "cell_type": "markdown",
      "source": [
        "Notice that the response looks like a dictionary, but is actually just a string of text (most data is exchanged on the web as plain text!).  This particular data format is called \"[JSON](https://en.wikipedia.org/wiki/JSON)\" \n",
        "\n",
        "The `json.loads` function \"parses\" such text and loads the data into a dictionary..."
      ],
      "metadata": {
        "collapsed": false,
        "pycharm": {
          "name": "#%% md\n"
        },
        "id": "np4HQTmABH3q"
      }
    },
    {
      "cell_type": "code",
      "execution_count": null,
      "outputs": [
        {
          "name": "stdout",
          "output_type": "stream",
          "text": [
            "{'data': {'cases': [{'date': '2022-11-01',\n",
            "                     'name': 'cases',\n",
            "                     'region': 'BC',\n",
            "                     'value': 387875,\n",
            "                     'value_daily': 62},\n",
            "                    {'date': '2022-11-02',\n",
            "                     'name': 'cases',\n",
            "                     'region': 'BC',\n",
            "                     'value': 387957,\n",
            "                     'value_daily': 82},\n",
            "                    {'date': '2022-11-03',\n",
            "                     'name': 'cases',\n",
            "                     'region': 'BC',\n",
            "                     'value': 387992,\n",
            "                     'value_daily': 35},\n",
            "                    {'date': '2022-11-04',\n",
            "                     'name': 'cases',\n",
            "                     'region': 'BC',\n",
            "                     'value': 388052,\n",
            "                     'value_daily': 60},\n",
            "                    {'date': '2022-11-05',\n",
            "                     'name': 'cases',\n",
            "                     'region': 'BC',\n",
            "                     'value': 388112,\n",
            "                     'value_daily': 60},\n",
            "                    {'date': '2022-11-06',\n",
            "                     'name': 'cases',\n",
            "                     'region': 'BC',\n",
            "                     'value': 388176,\n",
            "                     'value_daily': 64},\n",
            "                    {'date': '2022-11-07',\n",
            "                     'name': 'cases',\n",
            "                     'region': 'BC',\n",
            "                     'value': 388246,\n",
            "                     'value_daily': 70},\n",
            "                    {'date': '2022-11-08',\n",
            "                     'name': 'cases',\n",
            "                     'region': 'BC',\n",
            "                     'value': 388320,\n",
            "                     'value_daily': 74},\n",
            "                    {'date': '2022-11-09',\n",
            "                     'name': 'cases',\n",
            "                     'region': 'BC',\n",
            "                     'value': 388398,\n",
            "                     'value_daily': 78},\n",
            "                    {'date': '2022-11-10',\n",
            "                     'name': 'cases',\n",
            "                     'region': 'BC',\n",
            "                     'value': 388474,\n",
            "                     'value_daily': 76},\n",
            "                    {'date': '2022-11-11',\n",
            "                     'name': 'cases',\n",
            "                     'region': 'BC',\n",
            "                     'value': 388536,\n",
            "                     'value_daily': 62},\n",
            "                    {'date': '2022-11-12',\n",
            "                     'name': 'cases',\n",
            "                     'region': 'BC',\n",
            "                     'value': 388596,\n",
            "                     'value_daily': 60},\n",
            "                    {'date': '2022-11-13',\n",
            "                     'name': 'cases',\n",
            "                     'region': 'BC',\n",
            "                     'value': 388657,\n",
            "                     'value_daily': 61},\n",
            "                    {'date': '2022-11-14',\n",
            "                     'name': 'cases',\n",
            "                     'region': 'BC',\n",
            "                     'value': 388712,\n",
            "                     'value_daily': 55},\n",
            "                    {'date': '2022-11-15',\n",
            "                     'name': 'cases',\n",
            "                     'region': 'BC',\n",
            "                     'value': 388802,\n",
            "                     'value_daily': 90},\n",
            "                    {'date': '2022-11-16',\n",
            "                     'name': 'cases',\n",
            "                     'region': 'BC',\n",
            "                     'value': 388874,\n",
            "                     'value_daily': 72},\n",
            "                    {'date': '2022-11-17',\n",
            "                     'name': 'cases',\n",
            "                     'region': 'BC',\n",
            "                     'value': 388938,\n",
            "                     'value_daily': 64},\n",
            "                    {'date': '2022-11-18',\n",
            "                     'name': 'cases',\n",
            "                     'region': 'BC',\n",
            "                     'value': 389029,\n",
            "                     'value_daily': 91},\n",
            "                    {'date': '2022-11-19',\n",
            "                     'name': 'cases',\n",
            "                     'region': 'BC',\n",
            "                     'value': 389094,\n",
            "                     'value_daily': 65},\n",
            "                    {'date': '2022-11-20',\n",
            "                     'name': 'cases',\n",
            "                     'region': 'BC',\n",
            "                     'value': 389169,\n",
            "                     'value_daily': 75},\n",
            "                    {'date': '2022-11-21',\n",
            "                     'name': 'cases',\n",
            "                     'region': 'BC',\n",
            "                     'value': 389275,\n",
            "                     'value_daily': 106},\n",
            "                    {'date': '2022-11-22',\n",
            "                     'name': 'cases',\n",
            "                     'region': 'BC',\n",
            "                     'value': 389357,\n",
            "                     'value_daily': 82},\n",
            "                    {'date': '2022-11-23',\n",
            "                     'name': 'cases',\n",
            "                     'region': 'BC',\n",
            "                     'value': 389429,\n",
            "                     'value_daily': 72},\n",
            "                    {'date': '2022-11-24',\n",
            "                     'name': 'cases',\n",
            "                     'region': 'BC',\n",
            "                     'value': 389536,\n",
            "                     'value_daily': 107},\n",
            "                    {'date': '2022-11-25',\n",
            "                     'name': 'cases',\n",
            "                     'region': 'BC',\n",
            "                     'value': 389623,\n",
            "                     'value_daily': 87},\n",
            "                    {'date': '2022-11-26',\n",
            "                     'name': 'cases',\n",
            "                     'region': 'BC',\n",
            "                     'value': 389698,\n",
            "                     'value_daily': 75},\n",
            "                    {'date': '2022-11-27',\n",
            "                     'name': 'cases',\n",
            "                     'region': 'BC',\n",
            "                     'value': 389767,\n",
            "                     'value_daily': 69},\n",
            "                    {'date': '2022-11-28',\n",
            "                     'name': 'cases',\n",
            "                     'region': 'BC',\n",
            "                     'value': 389847,\n",
            "                     'value_daily': 80},\n",
            "                    {'date': '2022-11-29',\n",
            "                     'name': 'cases',\n",
            "                     'region': 'BC',\n",
            "                     'value': 389944,\n",
            "                     'value_daily': 97},\n",
            "                    {'date': '2022-11-30',\n",
            "                     'name': 'cases',\n",
            "                     'region': 'BC',\n",
            "                     'value': 390023,\n",
            "                     'value_daily': 79},\n",
            "                    {'date': '2022-12-01',\n",
            "                     'name': 'cases',\n",
            "                     'region': 'BC',\n",
            "                     'value': 390102,\n",
            "                     'value_daily': 79},\n",
            "                    {'date': '2022-12-02',\n",
            "                     'name': 'cases',\n",
            "                     'region': 'BC',\n",
            "                     'value': 390178,\n",
            "                     'value_daily': 76},\n",
            "                    {'date': '2022-12-03',\n",
            "                     'name': 'cases',\n",
            "                     'region': 'BC',\n",
            "                     'value': 390237,\n",
            "                     'value_daily': 59},\n",
            "                    {'date': '2022-12-04',\n",
            "                     'name': 'cases',\n",
            "                     'region': 'BC',\n",
            "                     'value': 390298,\n",
            "                     'value_daily': 61},\n",
            "                    {'date': '2022-12-05',\n",
            "                     'name': 'cases',\n",
            "                     'region': 'BC',\n",
            "                     'value': 390391,\n",
            "                     'value_daily': 93},\n",
            "                    {'date': '2022-12-06',\n",
            "                     'name': 'cases',\n",
            "                     'region': 'BC',\n",
            "                     'value': 390486,\n",
            "                     'value_daily': 95},\n",
            "                    {'date': '2022-12-07',\n",
            "                     'name': 'cases',\n",
            "                     'region': 'BC',\n",
            "                     'value': 390595,\n",
            "                     'value_daily': 109},\n",
            "                    {'date': '2022-12-08',\n",
            "                     'name': 'cases',\n",
            "                     'region': 'BC',\n",
            "                     'value': 390693,\n",
            "                     'value_daily': 98},\n",
            "                    {'date': '2022-12-09',\n",
            "                     'name': 'cases',\n",
            "                     'region': 'BC',\n",
            "                     'value': 390796,\n",
            "                     'value_daily': 103},\n",
            "                    {'date': '2022-12-10',\n",
            "                     'name': 'cases',\n",
            "                     'region': 'BC',\n",
            "                     'value': 390896,\n",
            "                     'value_daily': 100},\n",
            "                    {'date': '2022-12-11',\n",
            "                     'name': 'cases',\n",
            "                     'region': 'BC',\n",
            "                     'value': 390983,\n",
            "                     'value_daily': 87},\n",
            "                    {'date': '2022-12-12',\n",
            "                     'name': 'cases',\n",
            "                     'region': 'BC',\n",
            "                     'value': 391082,\n",
            "                     'value_daily': 99},\n",
            "                    {'date': '2022-12-13',\n",
            "                     'name': 'cases',\n",
            "                     'region': 'BC',\n",
            "                     'value': 391170,\n",
            "                     'value_daily': 88},\n",
            "                    {'date': '2022-12-14',\n",
            "                     'name': 'cases',\n",
            "                     'region': 'BC',\n",
            "                     'value': 391257,\n",
            "                     'value_daily': 87},\n",
            "                    {'date': '2022-12-15',\n",
            "                     'name': 'cases',\n",
            "                     'region': 'BC',\n",
            "                     'value': 391342,\n",
            "                     'value_daily': 85},\n",
            "                    {'date': '2022-12-16',\n",
            "                     'name': 'cases',\n",
            "                     'region': 'BC',\n",
            "                     'value': 391433,\n",
            "                     'value_daily': 91},\n",
            "                    {'date': '2022-12-17',\n",
            "                     'name': 'cases',\n",
            "                     'region': 'BC',\n",
            "                     'value': 391505,\n",
            "                     'value_daily': 72},\n",
            "                    {'date': '2022-12-18',\n",
            "                     'name': 'cases',\n",
            "                     'region': 'BC',\n",
            "                     'value': 391573,\n",
            "                     'value_daily': 68},\n",
            "                    {'date': '2022-12-19',\n",
            "                     'name': 'cases',\n",
            "                     'region': 'BC',\n",
            "                     'value': 391657,\n",
            "                     'value_daily': 84},\n",
            "                    {'date': '2022-12-20',\n",
            "                     'name': 'cases',\n",
            "                     'region': 'BC',\n",
            "                     'value': 391737,\n",
            "                     'value_daily': 80},\n",
            "                    {'date': '2022-12-21',\n",
            "                     'name': 'cases',\n",
            "                     'region': 'BC',\n",
            "                     'value': 391815,\n",
            "                     'value_daily': 78},\n",
            "                    {'date': '2022-12-22',\n",
            "                     'name': 'cases',\n",
            "                     'region': 'BC',\n",
            "                     'value': 391912,\n",
            "                     'value_daily': 97},\n",
            "                    {'date': '2022-12-23',\n",
            "                     'name': 'cases',\n",
            "                     'region': 'BC',\n",
            "                     'value': 391963,\n",
            "                     'value_daily': 51},\n",
            "                    {'date': '2022-12-24',\n",
            "                     'name': 'cases',\n",
            "                     'region': 'BC',\n",
            "                     'value': 392061,\n",
            "                     'value_daily': 98},\n",
            "                    {'date': '2022-12-25',\n",
            "                     'name': 'cases',\n",
            "                     'region': 'BC',\n",
            "                     'value': 392143,\n",
            "                     'value_daily': 82},\n",
            "                    {'date': '2022-12-26',\n",
            "                     'name': 'cases',\n",
            "                     'region': 'BC',\n",
            "                     'value': 392228,\n",
            "                     'value_daily': 85},\n",
            "                    {'date': '2022-12-27',\n",
            "                     'name': 'cases',\n",
            "                     'region': 'BC',\n",
            "                     'value': 392330,\n",
            "                     'value_daily': 102},\n",
            "                    {'date': '2022-12-28',\n",
            "                     'name': 'cases',\n",
            "                     'region': 'BC',\n",
            "                     'value': 392414,\n",
            "                     'value_daily': 84},\n",
            "                    {'date': '2022-12-29',\n",
            "                     'name': 'cases',\n",
            "                     'region': 'BC',\n",
            "                     'value': 392544,\n",
            "                     'value_daily': 130},\n",
            "                    {'date': '2022-12-30',\n",
            "                     'name': 'cases',\n",
            "                     'region': 'BC',\n",
            "                     'value': 392665,\n",
            "                     'value_daily': 121},\n",
            "                    {'date': '2022-12-31',\n",
            "                     'name': 'cases',\n",
            "                     'region': 'BC',\n",
            "                     'value': 392754,\n",
            "                     'value_daily': 89}]},\n",
            " 'version': '2023-01-07 10:08 EST'}\n"
          ]
        }
      ],
      "source": [
        "result = json.loads(response.text)\n",
        "pprint(result)   # pretty-print the entire data structure we got back..."
      ],
      "metadata": {
        "pycharm": {
          "name": "#%%\n"
        },
        "id": "M5wV1C_0BH3q",
        "outputId": "cdcd3192-04b9-4b79-cdd4-5d138de5e5a4"
      }
    },
    {
      "cell_type": "markdown",
      "source": [
        "### Extract data items from a list of dictionaries\n",
        "Next we use \"list comprehension\" to extract the list of dates and associated cases into \"parallel lists\"\n",
        "\n",
        "Notice how we \"parse\" the date strings, using strptime, into a real date objects so they are easier to work with (format: yyyy-mm-dd)"
      ],
      "metadata": {
        "collapsed": false,
        "pycharm": {
          "name": "#%% md\n"
        },
        "id": "dAXX9kuZBH3r"
      }
    },
    {
      "cell_type": "code",
      "execution_count": null,
      "outputs": [
        {
          "name": "stdout",
          "output_type": "stream",
          "text": [
            "Dates: ['2022-11-01', '2022-11-02', '2022-11-03', '2022-11-04', '2022-11-05', '2022-11-06', '2022-11-07', '2022-11-08', '2022-11-09', '2022-11-10']\n",
            "Cases: [62, 82, 35, 60, 60, 64, 70, 74, 78, 76]\n",
            "Zipped: [('2022-11-01', 62), ('2022-11-02', 82), ('2022-11-03', 35), ('2022-11-04', 60), ('2022-11-05', 60), ('2022-11-06', 64), ('2022-11-07', 70), ('2022-11-08', 74), ('2022-11-09', 78), ('2022-11-10', 76)]\n"
          ]
        }
      ],
      "source": [
        "cases = result['data']['cases']\n",
        "case_dates = [daily['date'] for daily in cases]     # List Comprehension #1: extract the case date strings\n",
        "n_cases = [daily['value_daily'] for daily in cases] # List Comprehension #2:  extract the case counts\n",
        "\n",
        "print('Dates:', case_dates[:10])      # do you recall the \"slice\" operation?  If not, look it up in the ThinkCsPy textbook!\n",
        "print('Cases:', n_cases[:10])\n",
        "print('Zipped:', list(zip(case_dates[:10], n_cases[:10])))  # zip is a very handy function to \"zip\" 2 lists together like a zipper..."
      ],
      "metadata": {
        "pycharm": {
          "name": "#%%\n"
        },
        "id": "JOFe4vNCBH3s",
        "outputId": "0d8038bd-8fff-40fe-fbb3-5fabe3e712a2",
        "colab": {
          "base_uri": "https://localhost:8080/"
        }
      }
    },
    {
      "cell_type": "markdown",
      "source": [
        "### Datetime.date\n",
        "Working with date stings is a pain.  So many formats!  Even within Canada, you might see:\n",
        "\"Jan. 9, 2023\" or \"09-01-2023\" or \"2023-01-09\" or ....\n",
        "Imagine trying to do a calculation like \"how many days between these 2 dates\"!!\n",
        "The build-in `datetime` package makes working with dates much easier.\n",
        "  * step 1: \"parse\" the date string data (`strptime` ==  \"string-parse-datetime object\")\n",
        "  * step 2: get the date part (i.e., without the time)"
      ],
      "metadata": {
        "collapsed": false,
        "pycharm": {
          "name": "#%% md\n"
        },
        "id": "4bOPQHP10FBI"
      }
    },
    {
      "cell_type": "code",
      "execution_count": null,
      "outputs": [
        {
          "name": "stdout",
          "output_type": "stream",
          "text": [
            "[datetime.date(2022, 11, 1), datetime.date(2022, 11, 2), datetime.date(2022, 11, 3), datetime.date(2022, 11, 4), datetime.date(2022, 11, 5), datetime.date(2022, 11, 6), datetime.date(2022, 11, 7), datetime.date(2022, 11, 8), datetime.date(2022, 11, 9), datetime.date(2022, 11, 10)]\n"
          ]
        }
      ],
      "source": [
        "# parse a datetime object from a string by supplying the correct \"format\" string.\n",
        "datetime_objects = [datetime.datetime.strptime(date, '%Y-%m-%d') for date in case_dates]  # List Comprehension #3\n",
        "\n",
        "# but we only need the \"date\" part...\n",
        "dates = [dt.date() for dt in datetime_objects]\n",
        "print(dates[:10])"
      ],
      "metadata": {
        "pycharm": {
          "name": "#%%\n"
        },
        "id": "E73ALll70FBJ",
        "outputId": "f2b27fb3-58d5-47af-f6ac-c9e19bef53e3"
      }
    },
    {
      "cell_type": "markdown",
      "source": [
        "## Exercise 1\n",
        "\n",
        "In the code cell below, re-write each of the 3 \"List Comprehensions\" in the code cells above as a loop so you understand how they work.\n",
        "\n",
        "Notice that a \"list comprehension\" is a compact way to write a \"list accumulator\" algorithm (and more efficient too!)"
      ],
      "metadata": {
        "collapsed": false,
        "pycharm": {
          "name": "#%% md\n"
        },
        "id": "koVKiju9BH3s"
      }
    },
    {
      "cell_type": "code",
      "execution_count": null,
      "outputs": [
        {
          "output_type": "stream",
          "name": "stdout",
          "text": [
            "[['2022-11-01'], ['2022-11-02'], ['2022-11-03'], ['2022-11-04'], ['2022-11-05'], ['2022-11-06'], ['2022-11-07'], ['2022-11-08'], ['2022-11-09'], ['2022-11-10'], ['2022-11-11'], ['2022-11-12'], ['2022-11-13'], ['2022-11-14'], ['2022-11-15'], ['2022-11-16'], ['2022-11-17'], ['2022-11-18'], ['2022-11-19'], ['2022-11-20'], ['2022-11-21'], ['2022-11-22'], ['2022-11-23'], ['2022-11-24'], ['2022-11-25'], ['2022-11-26'], ['2022-11-27'], ['2022-11-28'], ['2022-11-29'], ['2022-11-30'], ['2022-12-01'], ['2022-12-02'], ['2022-12-03'], ['2022-12-04'], ['2022-12-05'], ['2022-12-06'], ['2022-12-07'], ['2022-12-08'], ['2022-12-09'], ['2022-12-10'], ['2022-12-11'], ['2022-12-12'], ['2022-12-13'], ['2022-12-14'], ['2022-12-15'], ['2022-12-16'], ['2022-12-17'], ['2022-12-18'], ['2022-12-19'], ['2022-12-20'], ['2022-12-21'], ['2022-12-22'], ['2022-12-23'], ['2022-12-24'], ['2022-12-25'], ['2022-12-26'], ['2022-12-27'], ['2022-12-28'], ['2022-12-29'], ['2022-12-30'], ['2022-12-31']]\n",
            "[[62], [82], [35], [60], [60], [64], [70], [74], [78], [76], [62], [60], [61], [55], [90], [72], [64], [91], [65], [75], [106], [82], [72], [107], [87], [75], [69], [80], [97], [79], [79], [76], [59], [61], [93], [95], [109], [98], [103], [100], [87], [99], [88], [87], [85], [91], [72], [68], [84], [80], [78], [97], [51], [98], [82], [85], [102], [84], [130], [121], [89]]\n",
            "[[datetime.datetime(2022, 11, 1, 0, 0)], [datetime.datetime(2022, 11, 2, 0, 0)], [datetime.datetime(2022, 11, 3, 0, 0)], [datetime.datetime(2022, 11, 4, 0, 0)], [datetime.datetime(2022, 11, 5, 0, 0)], [datetime.datetime(2022, 11, 6, 0, 0)], [datetime.datetime(2022, 11, 7, 0, 0)], [datetime.datetime(2022, 11, 8, 0, 0)], [datetime.datetime(2022, 11, 9, 0, 0)], [datetime.datetime(2022, 11, 10, 0, 0)], [datetime.datetime(2022, 11, 11, 0, 0)], [datetime.datetime(2022, 11, 12, 0, 0)], [datetime.datetime(2022, 11, 13, 0, 0)], [datetime.datetime(2022, 11, 14, 0, 0)], [datetime.datetime(2022, 11, 15, 0, 0)], [datetime.datetime(2022, 11, 16, 0, 0)], [datetime.datetime(2022, 11, 17, 0, 0)], [datetime.datetime(2022, 11, 18, 0, 0)], [datetime.datetime(2022, 11, 19, 0, 0)], [datetime.datetime(2022, 11, 20, 0, 0)], [datetime.datetime(2022, 11, 21, 0, 0)], [datetime.datetime(2022, 11, 22, 0, 0)], [datetime.datetime(2022, 11, 23, 0, 0)], [datetime.datetime(2022, 11, 24, 0, 0)], [datetime.datetime(2022, 11, 25, 0, 0)], [datetime.datetime(2022, 11, 26, 0, 0)], [datetime.datetime(2022, 11, 27, 0, 0)], [datetime.datetime(2022, 11, 28, 0, 0)], [datetime.datetime(2022, 11, 29, 0, 0)], [datetime.datetime(2022, 11, 30, 0, 0)], [datetime.datetime(2022, 12, 1, 0, 0)], [datetime.datetime(2022, 12, 2, 0, 0)], [datetime.datetime(2022, 12, 3, 0, 0)], [datetime.datetime(2022, 12, 4, 0, 0)], [datetime.datetime(2022, 12, 5, 0, 0)], [datetime.datetime(2022, 12, 6, 0, 0)], [datetime.datetime(2022, 12, 7, 0, 0)], [datetime.datetime(2022, 12, 8, 0, 0)], [datetime.datetime(2022, 12, 9, 0, 0)], [datetime.datetime(2022, 12, 10, 0, 0)], [datetime.datetime(2022, 12, 11, 0, 0)], [datetime.datetime(2022, 12, 12, 0, 0)], [datetime.datetime(2022, 12, 13, 0, 0)], [datetime.datetime(2022, 12, 14, 0, 0)], [datetime.datetime(2022, 12, 15, 0, 0)], [datetime.datetime(2022, 12, 16, 0, 0)], [datetime.datetime(2022, 12, 17, 0, 0)], [datetime.datetime(2022, 12, 18, 0, 0)], [datetime.datetime(2022, 12, 19, 0, 0)], [datetime.datetime(2022, 12, 20, 0, 0)], [datetime.datetime(2022, 12, 21, 0, 0)], [datetime.datetime(2022, 12, 22, 0, 0)], [datetime.datetime(2022, 12, 23, 0, 0)], [datetime.datetime(2022, 12, 24, 0, 0)], [datetime.datetime(2022, 12, 25, 0, 0)], [datetime.datetime(2022, 12, 26, 0, 0)], [datetime.datetime(2022, 12, 27, 0, 0)], [datetime.datetime(2022, 12, 28, 0, 0)], [datetime.datetime(2022, 12, 29, 0, 0)], [datetime.datetime(2022, 12, 30, 0, 0)], [datetime.datetime(2022, 12, 31, 0, 0)]]\n"
          ]
        }
      ],
      "source": [
        "# Your code here\n",
        "# Your code here\n",
        "import datetime, json, requests\n",
        "import matplotlib.pyplot as plt\n",
        "import  matplotlib.dates as mdates\n",
        "from pprint import pprint    # Pretty Print - built-in python function to nicely format data structures\n",
        "\n",
        "query = 'https://api.opencovid.ca/timeseries?stat=cases&loc=BC&after=2022-11-01'\n",
        "\n",
        "response = requests.request(\"GET\", query, headers={}, data={})\n",
        "#print('Response data type:', type(response.text))\n",
        "#print(response.text)\n",
        "\n",
        "result = json.loads(response.text)\n",
        "#pprint(result)   # pretty-print the entire data structure we got back...\n",
        "\n",
        "cases = result['data']['cases']\n",
        "case_dates = [daily['date'] for daily in cases]     # List Comprehension #1: extract the case date strings\n",
        "n_cases = [daily['value_daily'] for daily in cases] # List Comprehension #2:  extract the case counts\n",
        "\n",
        "\n",
        "#===========================================================================================================================================================================================================================\n",
        "cases_dates = []\n",
        "for daily in cases:\n",
        "  cases_dates.append([daily['date']])\n",
        "print(cases_dates)\n",
        "\n",
        "n_cases = []\n",
        "for daily in cases:\n",
        "  n_cases.append([daily['value_daily']])\n",
        "print(n_cases)\n",
        "\n",
        "datetime_objects = [datetime.datetime.strptime(date, '%Y-%m-%d') for date in case_dates]  # List Comprehension #3\n",
        "\n",
        "datetime_objects = []\n",
        "for date in case_dates:\n",
        "  datetime_objects.append([datetime.datetime.strptime(date, '%Y-%m-%d')])\n",
        "print(datetime_objects)\n",
        "#============================================================================================================================================================================================================================\n",
        "\n",
        "#print('Dates:', case_dates[:10])      # do you recall the \"slice\" operation?  If not, look it up in the ThinkCsPy textbook!\n",
        "#print('Cases:', n_cases[:10])\n",
        "#print('Zipped:', list(zip(case_dates[:10], n_cases[:10])))  # zip is a very handy function to \"zip\" 2 lists together like a zipper...\n",
        "\n",
        "# parse a datetime object from a string by supplying the correct \"format\" string.\n",
        "\n",
        "\n",
        "# but we only need the \"date\" part...\n",
        "#dates = [dt.date() for dt in datetime_objects]\n",
        "#print(dates[:10])\n",
        "\n"
      ],
      "metadata": {
        "pycharm": {
          "name": "#%%\n"
        },
        "id": "aa5xLcWEBH3t",
        "outputId": "f2becbcd-1588-4b56-f0c0-af1ee5bb52a4",
        "colab": {
          "base_uri": "https://localhost:8080/"
        }
      }
    },
    {
      "cell_type": "markdown",
      "source": [
        "### Generating a plot\n",
        "\n",
        "Finally, we'll plot the (dates,cases) data as a nice x-y line graph.\n",
        "\n",
        "The code to format the x-axis labels is taken from https://matplotlib.org/stable/gallery/ticks/date_concise_formatter.html"
      ],
      "metadata": {
        "collapsed": false,
        "id": "2ow28BuTBH3u"
      }
    },
    {
      "cell_type": "code",
      "execution_count": null,
      "outputs": [
        {
          "output_type": "display_data",
          "data": {
            "text/plain": [
              "<Figure size 432x288 with 1 Axes>"
            ],
            "image/png": "[encoded data removed]"
          },
          "metadata": {
            "needs_background": "light"
          }
        }
      ],
      "source": [
        "def format_date_axis(ax):\n",
        "  \"\"\" format the dates shown on the x-axis of given axes, ax  \"\"\"\n",
        "  locator = mdates.AutoDateLocator(minticks=10, maxticks=20)\n",
        "  formatter = mdates.ConciseDateFormatter(locator)\n",
        "  ax.xaxis.set_major_locator(locator)\n",
        "  ax.xaxis.set_major_formatter(formatter)\n",
        "\n",
        "fig, ax = plt.subplots()\n",
        "format_date_axis(ax)\n",
        "ax.plot(dates, n_cases, label='Daily Cases')  # Plot some data on the axes.\n",
        "ax.set_xlabel('Date')  # Add an x-label to the axes.\n",
        "ax.set_ylabel('confirmed casess')  # Add a y-label to the axes.\n",
        "ax.set_title(\"Covid-19 case counts for BC\")  # Add a title to the axes.\n",
        "ax.legend();\n",
        "\n",
        "\n"
      ],
      "metadata": {
        "pycharm": {
          "name": "#%%\n"
        },
        "id": "FgwPH8mTBH3v",
        "outputId": "d9f426fc-4167-40a6-88a7-2510adef0d03",
        "colab": {
          "base_uri": "https://localhost:8080/",
          "height": 295
        }
      }
    },
    {
      "cell_type": "markdown",
      "source": [
        "## Exercise 2\n",
        "\n",
        "Repeat the analysis above, but this time only for Vancouver Coastal Health Region.\n",
        "\n",
        " * Try to modify as little code as you can (just need to change the \"query\"), and re-run the analysis\n",
        " * You can get the ***hruid*** location code for each health region here:  https://github.com/ccodwg/CovidTimelineCanada/blob/main/geo/hr.csv\n",
        " * Can you generalize the code in the 2nd code cell to make it easier to repeat the analysis for different locations?  What about for different dates?\n",
        "\n",
        "## OPTIONAL - Take your skills to the next level...\n",
        "\n",
        "## Exercise 3\n",
        "\n",
        "Notice that the data plot looks quite erratic.  These swings most likely represent artifacts attributable to the reporting process rather than actual changes in infection rates.\n",
        "\n",
        " * One way to fix this is is to \"smooth\" the date with a \"7-day rolling average\".\n",
        "Each day, we take the average of the previous 7 days cases.\n",
        " * Add new code cell below, compute the 7-day rolling average for each day from the cases list.\n",
        " * Create a plot to display the rolling average data and compare your plot with the one produced above.\n",
        "\n",
        " Hints: you are free to do this however you like, but a quite elegant solution uses list comprehension, range, and slices"
      ],
      "metadata": {
        "collapsed": false,
        "id": "qqeTORnvBH3v"
      }
    },
    {
      "cell_type": "code",
      "execution_count": null,
      "outputs": [
        {
          "output_type": "stream",
          "name": "stdout",
          "text": [
            "[['2022-11-01'], ['2022-11-02'], ['2022-11-03'], ['2022-11-04'], ['2022-11-05'], ['2022-11-06'], ['2022-11-07'], ['2022-11-08'], ['2022-11-09'], ['2022-11-10'], ['2022-11-11'], ['2022-11-12'], ['2022-11-13'], ['2022-11-14'], ['2022-11-15'], ['2022-11-16'], ['2022-11-17'], ['2022-11-18'], ['2022-11-19'], ['2022-11-20'], ['2022-11-21'], ['2022-11-22'], ['2022-11-23'], ['2022-11-24'], ['2022-11-25'], ['2022-11-26'], ['2022-11-27'], ['2022-11-28'], ['2022-11-29'], ['2022-11-30'], ['2022-12-01'], ['2022-12-02'], ['2022-12-03'], ['2022-12-04'], ['2022-12-05'], ['2022-12-06'], ['2022-12-07'], ['2022-12-08'], ['2022-12-09'], ['2022-12-10'], ['2022-12-11'], ['2022-12-12'], ['2022-12-13'], ['2022-12-14'], ['2022-12-15'], ['2022-12-16'], ['2022-12-17'], ['2022-12-18'], ['2022-12-19'], ['2022-12-20'], ['2022-12-21'], ['2022-12-22'], ['2022-12-23'], ['2022-12-24'], ['2022-12-25'], ['2022-12-26'], ['2022-12-27'], ['2022-12-28'], ['2022-12-29'], ['2022-12-30'], ['2022-12-31']]\n",
            "[[13], [15], [6], [17], [17], [11], [12], [12], [18], [15], [15], [14], [15], [21], [20], [14], [13], [16], [26], [18], [23], [21], [18], [20], [24], [14], [18], [19], [17], [18], [14], [29], [20], [24], [24], [20], [25], [18], [18], [26], [19], [27], [24], [22], [19], [22], [14], [20], [20], [24], [18], [36], [20], [29], [27], [30], [37], [19], [37], [35], [24]]\n",
            "[[datetime.datetime(2022, 11, 1, 0, 0)], [datetime.datetime(2022, 11, 2, 0, 0)], [datetime.datetime(2022, 11, 3, 0, 0)], [datetime.datetime(2022, 11, 4, 0, 0)], [datetime.datetime(2022, 11, 5, 0, 0)], [datetime.datetime(2022, 11, 6, 0, 0)], [datetime.datetime(2022, 11, 7, 0, 0)], [datetime.datetime(2022, 11, 8, 0, 0)], [datetime.datetime(2022, 11, 9, 0, 0)], [datetime.datetime(2022, 11, 10, 0, 0)], [datetime.datetime(2022, 11, 11, 0, 0)], [datetime.datetime(2022, 11, 12, 0, 0)], [datetime.datetime(2022, 11, 13, 0, 0)], [datetime.datetime(2022, 11, 14, 0, 0)], [datetime.datetime(2022, 11, 15, 0, 0)], [datetime.datetime(2022, 11, 16, 0, 0)], [datetime.datetime(2022, 11, 17, 0, 0)], [datetime.datetime(2022, 11, 18, 0, 0)], [datetime.datetime(2022, 11, 19, 0, 0)], [datetime.datetime(2022, 11, 20, 0, 0)], [datetime.datetime(2022, 11, 21, 0, 0)], [datetime.datetime(2022, 11, 22, 0, 0)], [datetime.datetime(2022, 11, 23, 0, 0)], [datetime.datetime(2022, 11, 24, 0, 0)], [datetime.datetime(2022, 11, 25, 0, 0)], [datetime.datetime(2022, 11, 26, 0, 0)], [datetime.datetime(2022, 11, 27, 0, 0)], [datetime.datetime(2022, 11, 28, 0, 0)], [datetime.datetime(2022, 11, 29, 0, 0)], [datetime.datetime(2022, 11, 30, 0, 0)], [datetime.datetime(2022, 12, 1, 0, 0)], [datetime.datetime(2022, 12, 2, 0, 0)], [datetime.datetime(2022, 12, 3, 0, 0)], [datetime.datetime(2022, 12, 4, 0, 0)], [datetime.datetime(2022, 12, 5, 0, 0)], [datetime.datetime(2022, 12, 6, 0, 0)], [datetime.datetime(2022, 12, 7, 0, 0)], [datetime.datetime(2022, 12, 8, 0, 0)], [datetime.datetime(2022, 12, 9, 0, 0)], [datetime.datetime(2022, 12, 10, 0, 0)], [datetime.datetime(2022, 12, 11, 0, 0)], [datetime.datetime(2022, 12, 12, 0, 0)], [datetime.datetime(2022, 12, 13, 0, 0)], [datetime.datetime(2022, 12, 14, 0, 0)], [datetime.datetime(2022, 12, 15, 0, 0)], [datetime.datetime(2022, 12, 16, 0, 0)], [datetime.datetime(2022, 12, 17, 0, 0)], [datetime.datetime(2022, 12, 18, 0, 0)], [datetime.datetime(2022, 12, 19, 0, 0)], [datetime.datetime(2022, 12, 20, 0, 0)], [datetime.datetime(2022, 12, 21, 0, 0)], [datetime.datetime(2022, 12, 22, 0, 0)], [datetime.datetime(2022, 12, 23, 0, 0)], [datetime.datetime(2022, 12, 24, 0, 0)], [datetime.datetime(2022, 12, 25, 0, 0)], [datetime.datetime(2022, 12, 26, 0, 0)], [datetime.datetime(2022, 12, 27, 0, 0)], [datetime.datetime(2022, 12, 28, 0, 0)], [datetime.datetime(2022, 12, 29, 0, 0)], [datetime.datetime(2022, 12, 30, 0, 0)], [datetime.datetime(2022, 12, 31, 0, 0)]]\n"
          ]
        },
        {
          "output_type": "display_data",
          "data": {
            "text/plain": [
              "<Figure size 432x288 with 1 Axes>"
            ],
            "image/png": "[encoded data removed]"
          },
          "metadata": {
            "needs_background": "light"
          }
        }
      ],
      "source": [
        "#EXERCISE 1 and 2 \n",
        "#593\n",
        "\n",
        "import datetime, json, requests\n",
        "import matplotlib.pyplot as plt\n",
        "import  matplotlib.dates as mdates\n",
        "from pprint import pprint    # Pretty Print - built-in python function to nicely format data structures\n",
        "\n",
        "query = 'https://api.opencovid.ca/timeseries?geo=hr&stat=cases&loc=593&after=2022-11-01'\n",
        "\n",
        "\n",
        "response = requests.request(\"GET\", query, headers={}, data={})\n",
        "#print('Response data type:', type(response.text))\n",
        "#print(response.text)\n",
        "\n",
        "result = json.loads(response.text)\n",
        "#pprint(result)   # pretty-print the entire data structure we got back...\n",
        "\n",
        "cases = result['data']['cases']\n",
        "case_dates = [daily['date'] for daily in cases]     # List Comprehension #1: extract the case date strings\n",
        "n_cases = [daily['value_daily'] for daily in cases] # List Comprehension #2:  extract the case counts\n",
        "\n",
        "\n",
        "#===========================================================================================================================================================================================================================\n",
        "#EXERCISE_01\n",
        "\n",
        "cases_dates = []\n",
        "for daily in cases:\n",
        "  cases_dates.append([daily['date']])\n",
        "print(cases_dates)\n",
        "\n",
        "n_cases = []\n",
        "for daily in cases:\n",
        "  n_cases.append([daily['value_daily']])\n",
        "print(n_cases)\n",
        "\n",
        "datetime_objects = [datetime.datetime.strptime(date, '%Y-%m-%d') for date in case_dates]  # List Comprehension #3\n",
        "\n",
        "datetime_objects = []\n",
        "for date in case_dates:\n",
        "  datetime_objects.append([datetime.datetime.strptime(date, '%Y-%m-%d')])\n",
        "print(datetime_objects)\n",
        "#============================================================================================================================================================================================================================\n",
        "\n",
        "#print('Dates:', case_dates[:10])      # do you recall the \"slice\" operation?  If not, look it up in the ThinkCsPy textbook!\n",
        "#print('Cases:', n_cases[:10])\n",
        "#print('Zipped:', list(zip(case_dates[:10], n_cases[:10])))  # zip is a very handy function to \"zip\" 2 lists together like a zipper...\n",
        "\n",
        "# parse a datetime object from a string by supplying the correct \"format\" string.\n",
        "\n",
        "\n",
        "# but we only need the \"date\" part...\n",
        "#dates = [dt.date() for dt in datetime_objects]\n",
        "#print(dates[:10])\n",
        "\n",
        "\n",
        "def format_date_axis(ax):\n",
        "  \"\"\" format the dates shown on the x-axis of given axes, ax  \"\"\"\n",
        "  locator = mdates.AutoDateLocator(minticks=10, maxticks=20)\n",
        "  formatter = mdates.ConciseDateFormatter(locator)\n",
        "  ax.xaxis.set_major_locator(locator)\n",
        "  ax.xaxis.set_major_formatter(formatter)\n",
        "\n",
        "fig, ax = plt.subplots()\n",
        "format_date_axis(ax)\n",
        "ax.plot(dates, n_cases, label='Daily Cases')  # Plot some data on the axes.\n",
        "ax.set_xlabel('Date')  # Add an x-label to the axes.\n",
        "ax.set_ylabel('confirmed casess')  # Add a y-label to the axes.\n",
        "ax.set_title(\"Covid-19 case counts for BC\")  # Add a title to the axes.\n",
        "ax.legend();\n",
        "\n"
      ],
      "metadata": {
        "pycharm": {
          "name": "#%%\n"
        },
        "id": "baJzNJxV0FBK",
        "outputId": "05f3e96b-a9b7-47c5-da0c-f3b119bbd257",
        "colab": {
          "base_uri": "https://localhost:8080/",
          "height": 367
        }
      }
    }
  ],
  "metadata": {
    "kernelspec": {
      "display_name": "Python 3",
      "language": "python",
      "name": "python3"
    },
    "language_info": {
      "codemirror_mode": {
        "name": "ipython",
        "version": 2
      },
      "file_extension": ".py",
      "mimetype": "text/x-python",
      "name": "python",
      "nbconvert_exporter": "python",
      "pygments_lexer": "ipython2",
      "version": "2.7.6"
    },
    "colab": {
      "provenance": [],
      "include_colab_link": true
    }
  },
  "nbformat": 4,
  "nbformat_minor": 0
}